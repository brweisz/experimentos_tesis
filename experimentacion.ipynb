{
 "cells": [
  {
   "cell_type": "code",
   "id": "initial_id",
   "metadata": {
    "collapsed": true
   },
   "source": [
    "import pandas as pd\n",
    "import matplotlib.pyplot as plt\n",
    "import seaborn as sns\n",
    "import subprocess\n",
    "import os\n",
    "import time\n",
    "import configuration\n",
    "from datetime import datetime"
   ],
   "outputs": [],
   "execution_count": null
  },
  {
   "metadata": {},
   "cell_type": "code",
   "source": [
    "BASE_PATH = os.getcwd()\n",
    "NARGO_NOIRKY2_PATH = BASE_PATH + \"/nargo_versions/nargo_noirky2\"\n",
    "NARGO_BARRETENBERG_PATH = BASE_PATH + \"/nargo_versions/nargo_barretenberg\""
   ],
   "id": "cb284f04e16cdec3",
   "outputs": [],
   "execution_count": null
  },
  {
   "metadata": {},
   "cell_type": "code",
   "source": [
    "def nargo_build(program_path, executable_path, witness_name, binary_name):\n",
    "    os.chdir(BASE_PATH+f\"/programas_generados/{program_path}\")\n",
    "    subprocess.run([executable_path, \"execute\", witness_name])\n",
    "    subprocess.run([\"mv\", \"target/ejemplo.json\", f\"target/{binary_name}.json\"])\n",
    "    os.chdir(BASE_PATH)\n",
    "        \n",
    "def nargo_build_all(executable_path, witness_name, binary_name):\n",
    "    for program in configuration.program_families:\n",
    "        for n in configuration.sizes_per_program_family[program]:\n",
    "            nargo_build(f\"{program}/{n}/\", executable_path, witness_name, binary_name)\n",
    "\n",
    "def nargo_noirky2_build_all():\n",
    "    nargo_build_all(NARGO_NOIRKY2_PATH, \"witness_noirky2\", \"binary_noirky2\")\n",
    "\n",
    "def nargo_barretenberg_build_all():\n",
    "    nargo_build_all(NARGO_BARRETENBERG_PATH, \"witness_bb\", \"binary_bb\")"
   ],
   "id": "8e7417c6701d368e",
   "outputs": [],
   "execution_count": null
  },
  {
   "metadata": {},
   "cell_type": "code",
   "source": [
    "# Nos aseguramos que el ACIR sea el mismo para ambas versiones\n",
    "for program in configuration.program_families:\n",
    "    for n in configuration.sizes_per_program_family[program]:\n",
    "        os.chdir(BASE_PATH + f\"/programas_generados/{program}/{n}\")\n",
    "        out_noirky2 = subprocess.run([NARGO_NOIRKY2_PATH, \"build\", \"--print-acir\"], capture_output=True)\n",
    "        out_barretenberg = subprocess.run([NARGO_BARRETENBERG_PATH, \"build\", \"--print-acir\"], capture_output=True)\n",
    "        assert out_noirky2.stdout == out_barretenberg.stdout\n",
    "        os.chdir(BASE_PATH)"
   ],
   "id": "8b4d8cd831254432",
   "outputs": [],
   "execution_count": null
  },
  {
   "metadata": {},
   "cell_type": "code",
   "source": "nargo_barretenberg_build_all()",
   "id": "eb48f9766badfe48",
   "outputs": [],
   "execution_count": null
  },
  {
   "metadata": {},
   "cell_type": "code",
   "source": "nargo_noirky2_build_all()",
   "id": "482f6463b67249c0",
   "outputs": [],
   "execution_count": null
  },
  {
   "metadata": {},
   "cell_type": "code",
   "source": [
    "def prove(path_to_backend, path_to_program, path_to_witness, path_to_proof, path_to_binary):\n",
    "    os.chdir(BASE_PATH+f\"/programas_generados/{path_to_program}\")\n",
    "    start_time = time.time()\n",
    "    subprocess.run([path_to_backend, \"prove\", \"-b\", path_to_binary, \"-w\", path_to_witness, \"-o\", path_to_proof])\n",
    "    end_time = time.time()\n",
    "    os.chdir(BASE_PATH)\n",
    "    return end_time - start_time"
   ],
   "id": "1208e907dd4b105",
   "outputs": [],
   "execution_count": null
  },
  {
   "metadata": {},
   "cell_type": "code",
   "source": [
    "def write_vk(path_to_backend, path_to_program, path_to_vk, path_to_binary):\n",
    "    os.chdir(BASE_PATH+f\"/programas_generados/{path_to_program}\")\n",
    "    start_time = time.time()\n",
    "    subprocess.run([path_to_backend, \"write_vk\", \"-b\", path_to_binary, \"-o\", path_to_vk])\n",
    "    end_time = time.time()\n",
    "    os.chdir(BASE_PATH)\n",
    "    return end_time - start_time"
   ],
   "id": "f139e133b5d73361",
   "outputs": [],
   "execution_count": null
  },
  {
   "metadata": {},
   "cell_type": "code",
   "source": [
    "def verify(path_to_backend, path_to_program, path_to_vk, path_to_proof):\n",
    "    os.chdir(BASE_PATH+f\"/programas_generados/{path_to_program}\")\n",
    "    start_time = time.time()\n",
    "    subprocess.run([path_to_backend, \"verify\", \"-k\", path_to_vk, \"-p\", path_to_proof])\n",
    "    end_time = time.time()\n",
    "    os.chdir(BASE_PATH)\n",
    "    return end_time - start_time"
   ],
   "id": "119349447c1840e1",
   "outputs": [],
   "execution_count": null
  },
  {
   "metadata": {},
   "cell_type": "markdown",
   "source": "# Experimentación",
   "id": "d81b6184e477f1f3"
  },
  {
   "metadata": {},
   "cell_type": "code",
   "source": [
    "comandos = [\"prove\", \"write_vk\", \"verify\"]\n",
    "backends = [\"noirky2-bits\", \"noirky2-limbs\", \"noirky2-bits-nozk\", \"noirky2-limbs-nozk\", \"bb\"]\n",
    "ejemplos = configuration.program_families\n",
    "cantidad_de_iteraciones = 1\n",
    "\n",
    "backend_base = {\n",
    "    \"noirky2-bits\": \"noirky2\",\n",
    "    \"noirky2-bits-nozk\": \"noirky2\",\n",
    "    \"noirky2-limb\": \"noirky2\",\n",
    "    \"noirky2-limb-nozk\": \"noirky2\",\n",
    "    \"bb\": \"bb\"\n",
    "}\n",
    "\n",
    "rows = []\n",
    "for comando in comandos:\n",
    "    for ejemplo in ejemplos:\n",
    "        for backend in configuration.backends_per_program_family[ejemplo]:\n",
    "            for n in configuration.sizes_per_program_family[ejemplo]:\n",
    "                for m in range(cantidad_de_iteraciones):\n",
    "                    time_elapsed = 0\n",
    "                    backend_base_name = backend_base[backend]\n",
    "                    if comando == \"prove\":\n",
    "                        time_elapsed = prove(\n",
    "                            f\"{BASE_PATH}/backends/{backend}\",\n",
    "                            f\"{ejemplo}/{n}\",\n",
    "                            f\"target/witness_{backend_base_name}.gz\",\n",
    "                            f\"target/proof_{backend}\",\n",
    "                            f\"target/binary_{backend_base_name}.json\")\n",
    "                    elif comando == \"write_vk\":\n",
    "                        time_elapsed = write_vk(\n",
    "                            f\"{BASE_PATH}/backends/{backend}\",\n",
    "                            f\"{ejemplo}/{n}\",\n",
    "                            f\"target/vk_{backend}\",\n",
    "                            f\"target/binary_{backend_base_name}.json\")\n",
    "                    elif comando == \"verify\":\n",
    "                        time_elapsed = verify(\n",
    "                            f\"{BASE_PATH}/backends/{backend}\",\n",
    "                            f\"{ejemplo}/{n}\",\n",
    "                            f\"target/vk_{backend}\",\n",
    "                            f\"target/proof_{backend}\")\n",
    "                    else:\n",
    "                        print(\"----------COMANDO DESCONOCIDO------------\")\n",
    "                        pass\n",
    "                        \n",
    "                    muestra = {\"comando\": comando, \"backend\": backend, \"ejemplo\": ejemplo, \"n\": n, \"iteracion\": m, \"tiempo\": time_elapsed}\n",
    "                    print(muestra)\n",
    "                    rows.append(muestra)\n",
    "\n",
    "muestra_headers = [\"comando\", \"backend\", \"ejemplo\", \"n\", \"iteracion\", \"tiempo\"]\n",
    "df_tiempos = pd.DataFrame(rows, columns = muestra_headers)\n",
    "df_tiempos"
   ],
   "id": "4b0c591a0543d04d",
   "outputs": [],
   "execution_count": null
  },
  {
   "metadata": {},
   "cell_type": "code",
   "source": [
    "timestamp = datetime.now().strftime(\"%Y-%m-%d_%H:%M:%S\")\n",
    "filename = f\"tiempos_{timestamp}.csv\"\n",
    "df_tiempos.to_csv(f\"mediciones/{filename}\", index=False)"
   ],
   "id": "31dc6a5aa2cd3ad2",
   "outputs": [],
   "execution_count": null
  },
  {
   "metadata": {},
   "cell_type": "code",
   "source": "#df_tiempos = pd.read_csv(\"\")",
   "id": "ba1852110ff79f14",
   "outputs": [],
   "execution_count": null
  },
  {
   "metadata": {},
   "cell_type": "code",
   "source": [
    "# ----------- GRAFICOS DE TIEMPOS  ------------ #\n",
    "cols = 3\n",
    "rows = 3\n",
    "\n",
    "for comando in comandos:\n",
    "    fig, axes = plt.subplots(rows, cols, figsize=(12, 5 * rows))\n",
    "    axes = axes.flatten()\n",
    "    \n",
    "    for idx, ejemplo in enumerate(ejemplos):\n",
    "        subset = df_tiempos[(df_tiempos[\"ejemplo\"] == ejemplo) & (df_tiempos[\"comando\"] == comando)]\n",
    "        sns.barplot(data=subset, x=\"n\", y=\"tiempo\", hue=\"backend\", ax=axes[idx])\n",
    "        axes[idx].set_title(f\"{comando}-{ejemplo}\")\n",
    "        axes[idx].set_xlabel(\"n\")\n",
    "        axes[idx].set_ylabel(\"tiempo\")\n",
    "    \n",
    "    # Hide any unused subplots\n",
    "    for j in range(len(ejemplos), len(axes)):\n",
    "        fig.delaxes(axes[j])\n",
    "    \n",
    "    plt.tight_layout()\n",
    "    plt.show()"
   ],
   "id": "7f752f4a898c8af1",
   "outputs": [],
   "execution_count": null
  },
  {
   "metadata": {},
   "cell_type": "code",
   "source": [
    "# OBTENER TAMAÑOS\n",
    "command_to_artifact = {\"prove\": \"proof\", \"write_vk\": \"vk\"}\n",
    "def get_size_in_bytes(comando, backend, ejemplo, n):\n",
    "    artifact_name = command_to_artifact[comando]\n",
    "    file_path = f\"{BASE_PATH}/programas_generados/{ejemplo}/{n}/target/{artifact_name}_{backend}\"\n",
    "    byte_size = os.path.getsize(file_path)\n",
    "    print(file_path)\n",
    "    print(byte_size)\n",
    "    return byte_size\n",
    "\n",
    "rows = []\n",
    "\n",
    "for comando in [\"prove\", \"write_vk\"]:\n",
    "    for ejemplo in ejemplos:\n",
    "        for backend in configuration.backends_per_program_family[ejemplo]:\n",
    "            for n in configuration.sizes_per_program_family[ejemplo]:\n",
    "                byte_size = get_size_in_bytes(comando, backend, ejemplo, n)\n",
    "                rows.append({\"comando\": comando, \"backend\": backend, \"ejemplo\": ejemplo, \"n\": n, \"byte_size\": byte_size})\n",
    "\n",
    "columns = [\"comando\", \"backend\", \"ejemplo\", \"n\", \"byte_size\"]\n",
    "df_sizes = pd.DataFrame(rows, columns = columns)\n",
    "df_sizes"
   ],
   "id": "a6dedeb88a9e79da",
   "outputs": [],
   "execution_count": null
  },
  {
   "metadata": {},
   "cell_type": "code",
   "source": [
    "# ---------- GRAFICOS DE TAMAÑOS ---------- #\n",
    "cols = 3\n",
    "rows = 3\n",
    "\n",
    "for comando in [\"prove\", \"write_vk\"]:\n",
    "    fig, axes = plt.subplots(rows, cols, figsize=(12, 5 * rows))\n",
    "    axes = axes.flatten()\n",
    "\n",
    "    for idx, ejemplo in enumerate(ejemplos):\n",
    "        subset = df_sizes[(df_sizes[\"ejemplo\"] == ejemplo) & (df_sizes[\"comando\"] == comando)]\n",
    "        sns.barplot(data=subset, x=\"n\", y=\"byte_size\", hue=\"backend\", ax=axes[idx])\n",
    "        axes[idx].set_title(f\"{comando}-{ejemplo}\")\n",
    "        axes[idx].set_xlabel(\"n\")\n",
    "        axes[idx].set_ylabel(\"byte_size\")\n",
    "\n",
    "    # Hide any unused subplots\n",
    "    for j in range(len(ejemplos), len(axes)):\n",
    "        fig.delaxes(axes[j])\n",
    "\n",
    "    plt.tight_layout()\n",
    "    plt.show()"
   ],
   "id": "f200054f364c1b48",
   "outputs": [],
   "execution_count": null
  },
  {
   "metadata": {},
   "cell_type": "code",
   "source": "",
   "id": "ce8a7271b163c2a5",
   "outputs": [],
   "execution_count": null
  }
 ],
 "metadata": {
  "kernelspec": {
   "display_name": "Python 3",
   "language": "python",
   "name": "python3"
  },
  "language_info": {
   "codemirror_mode": {
    "name": "ipython",
    "version": 2
   },
   "file_extension": ".py",
   "mimetype": "text/x-python",
   "name": "python",
   "nbconvert_exporter": "python",
   "pygments_lexer": "ipython2",
   "version": "2.7.6"
  }
 },
 "nbformat": 4,
 "nbformat_minor": 5
}
